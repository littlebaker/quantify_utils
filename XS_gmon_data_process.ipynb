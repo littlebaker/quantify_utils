{
 "cells": [
  {
   "cell_type": "code",
   "execution_count": 1,
   "metadata": {},
   "outputs": [],
   "source": [
    "from quantify_core.data.handling import load_dataset,to_gridded_dataset,set_datadir\n",
    "set_datadir(\"./quantify-data/Gmon04/\")\n",
    "dset2 = to_gridded_dataset(load_dataset(tuid=\"20231104-200226-297-52cfae-qubit spectrum Global from waveguide\"))"
   ]
  },
  {
   "cell_type": "code",
   "execution_count": 4,
   "metadata": {},
   "outputs": [
    {
     "name": "stdout",
     "output_type": "stream",
     "text": [
      "-34.91550190489248 -28.00274872347105\n"
     ]
    },
    {
     "data": {
      "application/vnd.jupyter.widget-view+json": {
       "model_id": "a717f71d1049405889743b7dcca2cc9d",
       "version_major": 2,
       "version_minor": 0
      },
      "text/plain": [
       "BokehModel(combine_events=True, render_bundle={'docs_json': {'885525a2-9782-4e8f-af71-d1723bacb0e7': {'version…"
      ]
     },
     "execution_count": 4,
     "metadata": {},
     "output_type": "execute_result"
    }
   ],
   "source": [
    "import hvplot.xarray \n",
    "from quantify_utils.visualization import  spec_draw_widget_amp,spec_draw_widget_phase\n",
    "spec_draw_widget_amp(dset2)"
   ]
  }
 ],
 "metadata": {
  "kernelspec": {
   "display_name": "quantify-env",
   "language": "python",
   "name": "python3"
  },
  "language_info": {
   "codemirror_mode": {
    "name": "ipython",
    "version": 3
   },
   "file_extension": ".py",
   "mimetype": "text/x-python",
   "name": "python",
   "nbconvert_exporter": "python",
   "pygments_lexer": "ipython3",
   "version": "3.9.18"
  }
 },
 "nbformat": 4,
 "nbformat_minor": 2
}
